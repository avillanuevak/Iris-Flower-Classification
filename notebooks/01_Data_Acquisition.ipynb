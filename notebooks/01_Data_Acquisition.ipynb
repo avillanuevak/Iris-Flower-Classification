{
 "cells": [
  {
   "cell_type": "markdown",
   "metadata": {},
   "source": [
    "# 01: Data Acquisition - Iris Dataset\n",
    "\n",
    "This notebook is responsible for downloading the Iris dataset and saving it as a CSV file in the `data/` directory. This ensures that all subsequent notebooks have a consistent and accessible data source."
   ]
  },
  {
   "cell_type": "markdown",
   "metadata": {},
   "source": [
    "### Import Libraries"
   ]
  },
  {
   "cell_type": "code",
   "execution_count": 1,
   "metadata": {},
   "outputs": [],
   "source": [
    "import pandas as pd\n",
    "from sklearn.datasets import load_iris\n",
    "import os"
   ]
  },
  {
   "cell_type": "markdown",
   "metadata": {},
   "source": [
    "### Define Data Acquisition Function\n",
    "\n",
    "The `get_data` function loads the Iris dataset from `scikit-learn`, converts it into a pandas DataFrame, and saves it to `data/iris.csv`."
   ]
  },
  {
   "cell_type": "code",
   "execution_count": 2,
   "metadata": {},
   "outputs": [],
   "source": [
    "def get_data():\n",
    "    \"\"\"Downloads the Iris dataset and saves it to a CSV file.\"\"\"\n",
    "    try:\n",
    "        print(\"Loading Iris dataset...\")\n",
    "        iris = load_iris()\n",
    "        print(\"Dataset loaded successfully.\")\n",
    "\n",
    "        print(\"Creating DataFrame...\")\n",
    "        df = pd.DataFrame(data=iris.data, columns=iris.feature_names)\n",
    "        df['target'] = iris.target\n",
    "        print(\"DataFrame created successfully.\")\n",
    "\n",
    "        output_dir = '../data' # Adjusted path for notebook execution\n",
    "        output_path = os.path.join(output_dir, 'iris.csv')\n",
    "        \n",
    "        print(f\"Ensuring directory '{output_dir}' exists...\")\n",
    "        os.makedirs(output_dir, exist_ok=True)\n",
    "        print(f\"Directory '{output_dir}' is ready.\")\n",
    "\n",
    "        print(f\"Attempting to save dataset to {output_path}\")\n",
    "        df.to_csv(output_path, index=False)\n",
    "        print(f\"Iris dataset downloaded and saved to {output_path}\")\n",
    "\n",
    "    except Exception as e:\n",
    "        import traceback\n",
    "        print(f\"An error occurred: {e}\")\n",
    "        print(traceback.format_exc())"
   ]
  },
  {
   "cell_type": "markdown",
   "metadata": {},
   "source": [
    "### Run Data Acquisition"
   ]
  },
  {
   "cell_type": "code",
   "execution_count": 3,
   "metadata": {},
   "outputs": [
    {
     "name": "stdout",
     "output_type": "stream",
     "text": [
      "Loading Iris dataset...\n",
      "Dataset loaded successfully.\n",
      "Creating DataFrame...\n",
      "DataFrame created successfully.\n",
      "Ensuring directory '../data' exists...\n",
      "Directory '../data' is ready.\n",
      "Attempting to save dataset to ../data\\iris.csv\n",
      "Iris dataset downloaded and saved to ../data\\iris.csv\n"
     ]
    }
   ],
   "source": [
    "get_data()"
   ]
  }
 ],
 "metadata": {
  "kernelspec": {
   "display_name": "base",
   "language": "python",
   "name": "python3"
  },
  "language_info": {
   "codemirror_mode": {
    "name": "ipython",
    "version": 3
   },
   "file_extension": ".py",
   "mimetype": "text/x-python",
   "name": "python",
   "nbconvert_exporter": "python",
   "pygments_lexer": "ipython3",
   "version": "3.11.4"
  }
 },
 "nbformat": 4,
 "nbformat_minor": 4
}
